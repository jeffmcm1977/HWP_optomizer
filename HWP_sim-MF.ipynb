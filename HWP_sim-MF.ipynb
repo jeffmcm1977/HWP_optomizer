{
 "cells": [
  {
   "cell_type": "code",
   "execution_count": 1,
   "metadata": {},
   "outputs": [],
   "source": [
    "import numpy as np\n",
    "import scipy.optimize as opt\n",
    "import matplotlib.pyplot as plt"
   ]
  },
  {
   "cell_type": "code",
   "execution_count": 2,
   "metadata": {},
   "outputs": [
    {
     "name": "stdout",
     "output_type": "stream",
     "text": [
      "[10.]\n",
      "[0.78539816]\n",
      "the transfer matrix\n",
      "[[ 2.22044605e-16+5.39030286e-15j  1.00000000e+00-8.72239442e-14j]\n",
      " [ 1.00000000e+00-8.72239442e-14j -2.22044605e-16+5.39030286e-15j]]\n",
      "checking unitatity\n",
      "[[ 1.00000000e+00+0.00000000e+00j -9.40322199e-28-1.41994963e-29j]\n",
      " [-9.40322199e-28+1.41994963e-29j  1.00000000e+00+0.00000000e+00j]]\n",
      "(2.220446049250313e-16+5.390302858158106e-15j)\n",
      "(1-8.72239441892112e-14j)\n"
     ]
    }
   ],
   "source": [
    "def make_HWP_transfer_matrix(thicks,thetas,no,ne,wavelength):\n",
    "    ## this code caculats the transfer matrix assumng x-y input and output\n",
    "    ################\n",
    "    ## thick --- the thickness of each layer, use mm\n",
    "    ## theta --- the angle of the ordinary axis relative to the x axis\n",
    "    ## no    --- the index along the ordinary axis\n",
    "    ## ne    --- the index along the extrodinary axis\n",
    "    ## wavelength  --- the wavelenght, use mm\n",
    "    ################\n",
    "    # set up the input layer, assumed to be vacuume\n",
    "    TF = np.matrix([[1,0],\n",
    "                    [0,1]])\n",
    "    theta_prev = 0.\n",
    "    # now iterate through the layers of HWP\n",
    "    N_layers = np.size(thicks)\n",
    "    i = 0\n",
    "    while (i < N_layers):\n",
    "        d_th = thetas[i] - theta_prev\n",
    "        Mrot = np.matrix([[np.cos(d_th),np.sin(d_th)],\n",
    "                         [-np.sin(d_th),np.cos(d_th)]])\n",
    "        k = 2 * np.pi / wavelength\n",
    "        phi_o = k * no * thicks[i]\n",
    "        phi_e = k * ne * thicks[i]\n",
    "        Mphase = np.matrix([[np.exp(np.complex(0,1)*phi_o),0],\n",
    "                         [0, np.exp(np.complex(0,1)*phi_e)]])\n",
    "        TF_layer = np.matmul(Mphase,Mrot)\n",
    "        TF = np.matmul(TF_layer,TF)\n",
    "        ## now iterate\n",
    "        theta_prev = thetas[i]\n",
    "        i+=1\n",
    "    # now do the last layer\n",
    "    d_th = 0 - theta_prev\n",
    "    Mrot = np.matrix([[np.cos(d_th),np.sin(d_th)],\n",
    "                      [-np.sin(d_th),np.cos(d_th)]])\n",
    "    TF = np.matmul(Mrot,TF)\n",
    "    return(TF)\n",
    "\n",
    "##########\n",
    "wavelength = 2.\n",
    "no = 3\n",
    "ne = 3.1\n",
    "thicks = np.array([1/(ne-no)*wavelength/2.])\n",
    "thetas = np.array([np.pi/4.])\n",
    "\n",
    "\n",
    "print(thicks)\n",
    "print(thetas)\n",
    "\n",
    "tmp = make_HWP_transfer_matrix(thicks,thetas,no,ne,wavelength)\n",
    "\n",
    "print(\"the transfer matrix\")\n",
    "print(tmp)\n",
    "print(\"checking unitatity\")\n",
    "print(np.matmul(np.conj(tmp),tmp))\n",
    "\n",
    "print(tmp[0,0])\n",
    "print(tmp[1,0])   "
   ]
  },
  {
   "cell_type": "code",
   "execution_count": 3,
   "metadata": {},
   "outputs": [],
   "source": [
    "def rotate_HWP(TF,psi):\n",
    "    Mrot = np.matrix([[np.cos(psi),np.sin(psi)],\n",
    "                      [-np.sin(psi),np.cos(psi)]])\n",
    "    out = np.matmul(TF,Mrot)\n",
    "    out = np.matmul(np.transpose(Mrot),out)\n",
    "    return(out)\n"
   ]
  },
  {
   "cell_type": "code",
   "execution_count": 4,
   "metadata": {},
   "outputs": [],
   "source": [
    "def sim_rot_HWP(TF,nsamps):\n",
    "    angs = np.arange(nsamps)/nsamps * 2 * np.pi\n",
    "    Ex_out = np.zeros(nsamps) * np.complex(0,1)\n",
    "    Ey_out = np.zeros(nsamps) * np.complex(0,1)\n",
    "    i = 0\n",
    "    while(i<nsamps):\n",
    "        TF_tmp = rotate_HWP(TF,angs[i])\n",
    "        Ex_out[i] = TF_tmp[0,0]\n",
    "        Ey_out[i] = TF_tmp[1,0]\n",
    "        i+=1\n",
    "    return(angs,Ex_out,Ey_out)"
   ]
  },
  {
   "cell_type": "code",
   "execution_count": 5,
   "metadata": {},
   "outputs": [
    {
     "data": {
      "image/png": "[encoded data removed]",
      "text/plain": [
       "<matplotlib.figure.Figure at 0x105a6def0>"
      ]
     },
     "metadata": {},
     "output_type": "display_data"
    },
    {
     "name": "stdout",
     "output_type": "stream",
     "text": [
      "[3.33333333]\n"
     ]
    }
   ],
   "source": [
    "## setup a HWP for 2 mm\n",
    "wavelength = 2.\n",
    "no = 3.05\n",
    "ne = 3.35\n",
    "thicks = np.array([1/(ne-no)*wavelength/2.])\n",
    "thetas = np.array([np.pi/4.])\n",
    "\n",
    "\n",
    "\n",
    "## make the transfer funciton\n",
    "wavelength = 2.\n",
    "TF = make_HWP_transfer_matrix(thicks,thetas,no,ne,wavelength)\n",
    "\n",
    "# simulate its output vs angle for x poliazed input\n",
    "n_angles = 128\n",
    "angs,Exo,Eyo = sim_rot_HWP(TF,n_angles)\n",
    "\n",
    "## plot the results\n",
    "plt.plot(angs,(np.abs(Exo))**2,\"b.\")\n",
    "plt.plot(angs,(np.abs(Eyo))**2,\"r.\")\n",
    "plt.show()\n",
    "\n",
    "print(thicks)"
   ]
  },
  {
   "cell_type": "code",
   "execution_count": 6,
   "metadata": {},
   "outputs": [
    {
     "data": {
      "image/png": "[encoded data removed]",
      "text/plain": [
       "<matplotlib.figure.Figure at 0x105a62128>"
      ]
     },
     "metadata": {},
     "output_type": "display_data"
    },
    {
     "name": "stdout",
     "output_type": "stream",
     "text": [
      "[ 3.75000000e-01+0.00000000e+00j -2.58158612e-17+1.60768989e-17j\n",
      " -4.03767227e-17-1.31022784e-17j -3.35645003e-17-6.25840893e-18j\n",
      "  1.87500000e-01+2.85362012e-16j  2.90777807e-17+9.98593750e-18j\n",
      "  7.02341155e-18-9.14254992e-19j  1.06868768e-17+1.02286366e-17j]\n",
      "[ 1.23569707e-17-1.30203285e-18j  1.06868768e-17-1.02286366e-17j\n",
      "  7.02341155e-18+9.14254992e-19j  2.90777807e-17-9.98593750e-18j\n",
      "  1.87500000e-01+1.61329283e-16j -3.35645003e-17+6.25840893e-18j\n",
      " -4.03767227e-17+1.31022784e-17j -2.58158612e-17-1.60768989e-17j]\n",
      "1.0\n"
     ]
    }
   ],
   "source": [
    "## make the transfer funciton\n",
    "wavelength = 3.0\n",
    "TF = make_HWP_transfer_matrix(thicks,thetas,no,ne,wavelength)\n",
    "\n",
    "# simulate its output vs angle for x poliazed input\n",
    "n_angles = 128\n",
    "angs,Exo,Eyo = sim_rot_HWP(TF,n_angles)\n",
    "\n",
    "## plot the results\n",
    "plt.plot(angs*180/np.pi,(np.abs(Exo))**2,\"b.\")\n",
    "plt.plot(angs*180/np.pi,(np.abs(Eyo))**2,\"r.\")\n",
    "plt.show()\n",
    "\n",
    "\n",
    "\n",
    "## fit fourier modes to the output\n",
    "\n",
    "tmp = ( np.fft.ifft((np.abs(Eyo))**2))\n",
    "\n",
    "print(tmp[0:8])\n",
    "print(tmp[-8:])\n",
    "\n",
    "print(2*np.abs(tmp[4])/np.abs(tmp[0]))\n",
    "\n",
    "\n"
   ]
  },
  {
   "cell_type": "code",
   "execution_count": 7,
   "metadata": {},
   "outputs": [
    {
     "name": "stdout",
     "output_type": "stream",
     "text": [
      "(0.7500000000000007, 2.842170943040401e-14)\n"
     ]
    }
   ],
   "source": [
    "def mod_eff_and_phase(E):\n",
    "    tmp = np.fft.ifft((np.abs(E))**2)\n",
    "    mod_eff = 2. * np.abs(tmp[4]) /.5 #/ np.abs(tmp[0])\n",
    "    ##\n",
    "    tmp = np.arctan2(np.imag(tmp[4]),np.real(tmp[4]))\n",
    "    phase =  45 + 180/np.pi * tmp/4.\n",
    "    return(mod_eff,phase)\n",
    "\n",
    "print(mod_eff_and_phase(Exo))"
   ]
  },
  {
   "cell_type": "code",
   "execution_count": 8,
   "metadata": {},
   "outputs": [
    {
     "data": {
      "image/png": "[encoded data removed]",
      "text/plain": [
       "<matplotlib.figure.Figure at 0x105d4c080>"
      ]
     },
     "metadata": {},
     "output_type": "display_data"
    }
   ],
   "source": [
    "## wavelenght range\n",
    "wavelengths = ((np.arange(0,500)+1)/500.)*10. + 1\n",
    "freq_GHZ = 1./wavelengths * 300./1.  ## \n",
    "mod_effs = np.zeros(np.shape(wavelengths))\n",
    "phases =   np.zeros(np.shape(wavelengths))\n",
    "\n",
    "## numer of angles to use in the simulations of the HWP\n",
    "n_angles = 32\n",
    "\n",
    "## setup a HWP for 2 mm\n",
    "wavelength = 2.\n",
    "no = 3.05\n",
    "ne = 3.35\n",
    "thicks = np.array([1/(ne-no)*wavelength/2.])\n",
    "thetas = np.array([np.pi/4.])\n",
    "\n",
    "\n",
    "\n",
    "## make the transfer funciton\n",
    "i = 0\n",
    "while (i < np.size(wavelengths)):\n",
    "    wavelength = wavelengths[i]\n",
    "    TF = make_HWP_transfer_matrix(thicks,thetas,no,ne,wavelengths[i])\n",
    "    angs,Exo,Eyo = sim_rot_HWP(TF,n_angles)\n",
    "    mod_eff,phase = mod_eff_and_phase(Exo)\n",
    "    mod_effs[i] = mod_eff\n",
    "    phases[i] = phase\n",
    "    i +=1\n",
    "\n",
    "\n",
    "mod_effs_single = np.copy(mod_effs)\n",
    "mod_phsses_single = np.copy(phases)\n",
    "\n",
    "plt.plot(freq_GHZ,mod_effs_single) \n",
    "plt.show()\n",
    "\n",
    "\n",
    "    \n",
    "    "
   ]
  },
  {
   "cell_type": "code",
   "execution_count": 9,
   "metadata": {},
   "outputs": [
    {
     "data": {
      "image/png": "[encoded data removed]",
      "text/plain": [
       "<matplotlib.figure.Figure at 0x105c47668>"
      ]
     },
     "metadata": {},
     "output_type": "display_data"
    },
    {
     "name": "stdout",
     "output_type": "stream",
     "text": [
      "[ 4.89873243e-01+0.00000000e+00j -1.87136807e-17+1.68724832e-17j\n",
      " -6.95216274e-17-4.55285637e-19j -3.13424964e-17-2.96640732e-18j\n",
      "  2.44936622e-01+3.54750951e-16j  4.57087354e-17-1.87979620e-18j\n",
      "  5.66845454e-18+2.84595803e-17j  1.46170949e-17+1.92287114e-17j]\n"
     ]
    }
   ],
   "source": [
    "wavelength = 2.2\n",
    "n_angles = 128\n",
    "\n",
    "TF = make_HWP_transfer_matrix(thicks,thetas,no,ne,wavelength)\n",
    "angs,Exo,Eyo = sim_rot_HWP(TF,n_angles)\n",
    "mod_eff,phase = mod_eff_and_phase(Exo)\n",
    "\n",
    "\n",
    "## plot the results\n",
    "plt.plot(angs*180./np.pi,(np.abs(Exo))**2,\"b.\")\n",
    "plt.plot(angs*180./np.pi,(np.abs(Eyo))**2,\"r.\")\n",
    "plt.xlim(0,45)\n",
    "plt.show()\n",
    "\n",
    "\n",
    "\n",
    "## fit fourier modes to the output\n",
    "\n",
    "tmp = ( np.fft.ifft((np.abs(Eyo))**2)[0:8])\n",
    "\n",
    "print(tmp)"
   ]
  },
  {
   "cell_type": "code",
   "execution_count": null,
   "metadata": {},
   "outputs": [],
   "source": []
  },
  {
   "cell_type": "code",
   "execution_count": 10,
   "metadata": {},
   "outputs": [
    {
     "name": "stdout",
     "output_type": "stream",
     "text": [
      "0.3566889860503669\n",
      "0.3566889860503669\n"
     ]
    }
   ],
   "source": [
    "## compute the fraction of the simualted band that is usable, defined as above a threshold\n",
    "#def fractional_BW_usable(mod_eff,thresshold):\n",
    "#    ok = np.where(mod_eff > thresshold )\n",
    "#    return(np.size(ok)/np.size(mod_eff))\n",
    "\n",
    "def fractional_BW_usable(mod_eff):\n",
    "    tmp = np.sum(mod_eff)\n",
    "    tmp = tmp / np.size(mod_eff)\n",
    "    return(tmp)\n",
    "\n",
    "print(fractional_BW_usable(mod_effs_single))\n",
    "print(fractional_BW_usable(mod_effs))\n"
   ]
  },
  {
   "cell_type": "code",
   "execution_count": 11,
   "metadata": {},
   "outputs": [],
   "source": [
    "## calcuatle the dispersion in the phase angle\n",
    "def phase_angle_dispersion(phase_angle,frequency):\n",
    "    phase_angle  = np.unwrap(phase_angle*4.*np.pi/180)/4. * 180/np.pi\n",
    "    low_band = np.where(frequency  < 112.)\n",
    "    high_band =np.where(frequency > 122.)\n",
    "    out = np.std(phase_angle[low_band])\n",
    "    out += np.std(phase_angle[high_band])\n",
    "    return(out)\n",
    "\n",
    "#print(phase_angle_dispersion(mod_phsses_single))\n",
    "#print(phase_angle_dispersion(phases))\n"
   ]
  },
  {
   "cell_type": "code",
   "execution_count": 12,
   "metadata": {},
   "outputs": [],
   "source": [
    "def optomization_function(mod_effs,phase_angles,frequency):\n",
    "    ## the bandwidth part, this is multiplitative, with small values being bad\n",
    "    fBW = fractional_BW_usable(mod_effs)\n",
    "    alpha = 0.05 ## smaller aphpah penalizes more for loss of BW\n",
    "                ## 0.1 means 10% bw loss results in a 70% penalty\n",
    "    BW_penalty = ( ((1-fBW)/alpha))\n",
    "    ## the phase constancy part, small is good\n",
    "    rms_phi = np.sqrt(phase_angle_dispersion(phase_angles,frequency)**2)\n",
    "    ## optomization funciton should get small as things improe\n",
    "    opt = rms_phi + 2*BW_penalty ## consider addign a thickness penalty\n",
    "    return(opt)\n",
    "\n",
    "#print(optomization_function(mod_effs,phases))\n",
    "#print(optomization_function(mod_effs_single,mod_phsses_single))"
   ]
  },
  {
   "cell_type": "code",
   "execution_count": 13,
   "metadata": {},
   "outputs": [
    {
     "name": "stdout",
     "output_type": "stream",
     "text": [
      "81.96535032744539\n"
     ]
    }
   ],
   "source": [
    "def evaluate_HWP(params):\n",
    "    ##unpack the params\n",
    "    thicks = np.abs(params[:int(np.size(params)/2)])\n",
    "    thetas = params[int(np.size(params)/2):]*np.pi/180.\n",
    "    ne = 3.2 + 0.31/2.\n",
    "    no = 3.2 - 0.31/2.\n",
    "    ## set up the wavelenght range\n",
    "    freq_GHZ = np.arange(100) + 70.  ## from 70 to 170 GHz \n",
    "    ok = np.where(np.logical_or(freq_GHZ < 112, freq_GHZ > 122))\n",
    "    freq_GHZ = freq_GHZ[ok]\n",
    "    wavelengths = 1./freq_GHZ *300.  ## convert to mm\n",
    "    ## set up the outputs for the calcaulation\n",
    "    mod_effs = np.zeros(np.shape(wavelengths))\n",
    "    phases =   np.zeros(np.shape(wavelengths))\n",
    "\n",
    "    ## numer of angles to use in the simulations of the HWP\n",
    "    n_angles = 32\n",
    "    \n",
    "    ## make the transfer funciton\n",
    "    i = 0\n",
    "    while (i < np.size(wavelengths)):\n",
    "        wavelength = wavelengths[i]\n",
    "        TF = make_HWP_transfer_matrix(thicks,thetas,no,ne,wavelengths[i])\n",
    "        angs,Exo,Eyo = sim_rot_HWP(TF,n_angles)\n",
    "        mod_eff,phase = mod_eff_and_phase(Exo)\n",
    "        mod_effs[i] = mod_eff\n",
    "        phases[i] = phase\n",
    "        i +=1 \n",
    "    \n",
    "    phases  = np.unwrap(phases*4.*np.pi/180)/4. * 180/np.pi\n",
    "    ## plots for debugging\n",
    "    if (np.random.random_sample() < .01):  ## very important for speeding it up\n",
    "        print(\"thicks: \", thicks)\n",
    "        print(\"agnles: \", thetas*180./np.pi)\n",
    "        plt.plot(freq_GHZ,mod_effs,\"b.\")\n",
    "        plt.ylim(0,1)\n",
    "        plt.show()\n",
    "        plt.plot(freq_GHZ,phases-np.mean(phases),\"r.\")\n",
    "        plt.show()\n",
    "\n",
    "    return(optomization_function(mod_effs,phases,freq_GHZ))\n",
    "\n",
    "\n",
    "freq_GHZ = np.arange(100) + 70.  ## from 70 to 170 GHz \n",
    "\n",
    "thicks = np.ones(5)* 1/(.3)*2./2.*1.4\n",
    "angles = np.array([0,25,85,25,0])*np.pi/180.\n",
    "params = np.concatenate((thicks,angles))\n",
    "print(evaluate_HWP(params))"
   ]
  },
  {
   "cell_type": "markdown",
   "metadata": {},
   "source": [
    "## these are several optomizaitons I tried... be ware of running them all, I would be selective and perhaps skip to the checks on specific deisngs below the hedings below"
   ]
  },
  {
   "cell_type": "code",
   "execution_count": null,
   "metadata": {
    "scrolled": true
   },
   "outputs": [],
   "source": [
    "#tmp = opt.minimize(evaluate_HWP, params,method='Newton-CG')\n",
    "params = np.array([ 5,  7.9 ,  4.3,  4.7 ,7.9,\n",
    "                   20,-31, 41,  -20,-72])\n",
    "\n",
    "params = np.array([ 4,  4 ,  4,  4 ,4,\n",
    "                   25,-25, 40,  -25,-75])\n",
    "\n",
    "tmp = opt.basinhopping(evaluate_HWP, params, niter=100, T=5.0, stepsize=1.0)\n",
    "             \n",
    "             \n",
    "print(tmp)"
   ]
  },
  {
   "cell_type": "code",
   "execution_count": null,
   "metadata": {},
   "outputs": [],
   "source": [
    "#tmp = opt.minimize(evaluate_HWP, params,method='Newton-CG')\n",
    "\n",
    "params = np.array([ 8,  4 ,  8, \n",
    "                   0, 30,  -45])\n",
    "\n",
    "params = np.array([ 8,  4 ,  8, \n",
    "                   0, 60,  0])\n",
    "tmp = opt.basinhopping(evaluate_HWP, params, niter=100, T=5.0, stepsize=1.0)\n",
    "             \n",
    "             \n",
    "print(tmp)"
   ]
  },
  {
   "cell_type": "code",
   "execution_count": null,
   "metadata": {
    "scrolled": false
   },
   "outputs": [],
   "source": [
    "#tmp = opt.minimize(evaluate_HWP, params,method='Newton-CG')\n",
    "params = np.array([ 4,  7.9 ,  4.3,  4.7 ,7.9,\n",
    "                   20,-31, 41,  -20,-72])\n",
    "\n",
    "params = np.array([ 4,  4 ,  4,  4 ,4,\n",
    "                   0,29, 94,  29,0])\n",
    "\n",
    "\n",
    "tmp = opt.basinhopping(evaluate_HWP, params, niter=100, T=5.0, stepsize=1.0)\n",
    "             \n",
    "             \n",
    "print(tmp)"
   ]
  },
  {
   "cell_type": "code",
   "execution_count": null,
   "metadata": {},
   "outputs": [],
   "source": [
    "#tmp = opt.minimize(evaluate_HWP, params,method='Newton-CG')\n",
    "params = np.array([ 4,  8 ,  4,  4 ,\n",
    "                   -26, 1,  78,  26])\n",
    "\n",
    "tmp = opt.basinhopping(evaluate_HWP, params, niter=100, T=5.0, stepsize=1.0)\n",
    "             \n",
    "             \n",
    "print(tmp)"
   ]
  },
  {
   "cell_type": "code",
   "execution_count": null,
   "metadata": {},
   "outputs": [],
   "source": [
    "params = np.array([ 4,  8 ,  4,  4 ,\n",
    "                   -26, 1,  30,  -30])\n",
    "\n",
    "tmp = opt.basinhopping(evaluate_HWP, params, niter=100, T=5.0, stepsize=1.0)\n",
    "             \n",
    "             \n",
    "print(tmp)"
   ]
  },
  {
   "cell_type": "code",
   "execution_count": null,
   "metadata": {
    "scrolled": true
   },
   "outputs": [],
   "source": [
    "scale = 1.0\n",
    "params = np.array([ 2.861*scale,  5.716*scale ,  5.716*scale,  2.861*scale ,\n",
    "                   22.5, -33.2,  33.2,  -22.5])\n",
    "\n",
    "params = np.array([ 4,  2 ,  2,  4 ,\n",
    "                  28, -28,  28,  -28])\n",
    "\n",
    "\n",
    "tmp = opt.basinhopping(evaluate_HWP, params, niter=100, T=5.0, stepsize=1.0)\n",
    "             \n",
    "             \n",
    "print(tmp)"
   ]
  },
  {
   "cell_type": "code",
   "execution_count": null,
   "metadata": {},
   "outputs": [],
   "source": [
    "params = np.array([ 4,  2 ,  4,  2 ,4,4,\n",
    "                   -26,-83, 0,  26,83,0])\n",
    "\n",
    "\n",
    "tmp = opt.basinhopping(evaluate_HWP, params, niter=100, T=5.0, stepsize=1.0)\n",
    "             \n",
    "             "
   ]
  },
  {
   "cell_type": "markdown",
   "metadata": {},
   "source": [
    "#tmp = opt.minimize(evaluate_HWP, params,method='Newton-CG')\n",
    "params = np.array([ 2.861,  5.716 ,  5.716,  2.861 ,\n",
    "                   41.699, -14.033,  52.428,  -3.301])\n",
    "\n",
    "tmp = opt.basinhopping(evaluate_HWP, params, niter=100, T=5.0, stepsize=1.0)\n",
    "             \n",
    "             \n",
    "print(tmp)"
   ]
  },
  {
   "cell_type": "markdown",
   "metadata": {},
   "source": [
    "## things to try\n",
    "\n",
    "* tolerancing, assume $0.1^\\circ$ uncertaanty in angle and 20$\\mu$ (e.g., 0.020 mm) uncertanty in thickness.  Write a code to draw errors with these magnitudes from guassian distributions (indepandt draws for each paramter) and then plot ~100 of these variations on top of the same plot, once that is done see how far you can push the uncertaintyes and still get accptable performance\n",
    "\n",
    "* see if you can come up with a thinner design of a 4 layer\n",
    "\n",
    "* see if you can interpret this soltuion in terms of the poincerre sphere\n",
    "\n",
    "* once these are done, lets talk"
   ]
  },
  {
   "cell_type": "markdown",
   "metadata": {},
   "source": [
    "# this is the four layer design, I favor"
   ]
  },
  {
   "cell_type": "code",
   "execution_count": 13,
   "metadata": {},
   "outputs": [
    {
     "name": "stdout",
     "output_type": "stream",
     "text": [
      "[2.04 4.08 4.08 2.04]\n",
      "[-28.5  28.5 -28.5  28.5]\n",
      "3.9999999999999964\n"
     ]
    },
    {
     "name": "stderr",
     "output_type": "stream",
     "text": [
      "/Users/jeffmcm/anaconda3/lib/python3.6/site-packages/ipykernel_launcher.py:68: RuntimeWarning: divide by zero encountered in true_divide\n"
     ]
    },
    {
     "data": {
      "image/png": "[encoded data removed]",
      "text/plain": [
       "<matplotlib.figure.Figure at 0x105d2bba8>"
      ]
     },
     "metadata": {},
     "output_type": "display_data"
    },
    {
     "name": "stdout",
     "output_type": "stream",
     "text": [
      "0.9986561318486675\n",
      "0.9992541580067937\n"
     ]
    },
    {
     "data": {
      "image/png": "[encoded data removed]",
      "text/plain": [
       "<matplotlib.figure.Figure at 0x102faedd8>"
      ]
     },
     "metadata": {},
     "output_type": "display_data"
    },
    {
     "data": {
      "image/png": "[encoded data removed]",
      "text/plain": [
       "<matplotlib.figure.Figure at 0x105e2aba8>"
      ]
     },
     "metadata": {},
     "output_type": "display_data"
    },
    {
     "data": {
      "image/png": "[encoded data removed]",
      "text/plain": [
       "<matplotlib.figure.Figure at 0x105ea25c0>"
      ]
     },
     "metadata": {},
     "output_type": "display_data"
    }
   ],
   "source": [
    "## setup a HWP for 2 mm\n",
    "wavelength = 2.4\n",
    "no = 3.05\n",
    "ne = 3.35\n",
    "HWP_thick = 1/(ne-no)*wavelength/2.\n",
    "\n",
    "## one stack, standard\n",
    "thicks = np.array([HWP_thick])\n",
    "thetas = np.array([22])*np.pi/180.\n",
    "\n",
    "\n",
    "## three stack, standard\n",
    "#thicks = np.array([HWP_thick,HWP_thick,HWP_thick])\n",
    "#thetas = np.array([0,58*np.pi/180.,0])\n",
    "\n",
    "\n",
    "## five stack, standard\n",
    "thicks = np.array([HWP_thick,HWP_thick,HWP_thick,HWP_thick,HWP_thick])\n",
    "thetas = np.array([0,28.6,94.1,28.6,1.6])*np.pi/180.\n",
    "\n",
    "\n",
    "## five stack, standard\n",
    "thicks = np.array([HWP_thick,HWP_thick,HWP_thick,HWP_thick,HWP_thick])\n",
    "thetas = np.array([0,28.6,94.1,28.6,1.6])*np.pi/180.\n",
    "\n",
    "\n",
    "\n",
    "\n",
    "\n",
    "## nine stack, standard\n",
    "#thicks = np.array([HWP_thick,HWP_thick,HWP_thick,HWP_thick,HWP_thick,HWP_thick,HWP_thick])\n",
    "#thetas = np.array([0.,18.5,37.5,73.9,141.5,73.9,37.5,18.5,22.7])*np.pi/180.\n",
    "\n",
    "\n",
    "\n",
    "\n",
    "## fiducial SO design\n",
    "no = 3.05\n",
    "ne = 3.35\n",
    "thick_HWP = 4.08\n",
    "epsi = 0\n",
    "angle = 28.5\n",
    "delta = 0\n",
    "eta = 0.\n",
    "thicks = np.array([ 1/2,  1 +epsi,  1+epsi,  1/2])* thick_HWP\n",
    "thetas = np.array([angle+delta, -angle+eta,  angle+delta,  -angle+eta])*np.pi/180. *-1.\n",
    "\n",
    "\n",
    "\n",
    "print(thicks)\n",
    "print(thetas*180./np.pi)\n",
    "\n",
    "## three stack, standard\n",
    "thicks = np.array([thick_HWP,thick_HWP,thick_HWP])\n",
    "thetas = np.array([0,58*np.pi/180.,0])\n",
    "print(HWP_thick)\n",
    "\n",
    "## five stack, non standard\n",
    "HWP_thick = 3.95\n",
    "thicks = np.array([HWP_thick,HWP_thick,HWP_thick,HWP_thick,HWP_thick])\n",
    "thetas = np.array([22.9,-50,0,50,-22.9])*np.pi/180.\n",
    "\n",
    "\n",
    "\n",
    "\n",
    "## setup the sim\n",
    "freq_GHZ = np.arange(600)  ## from 70 to 170 GHz \n",
    "wavelengths = 1./freq_GHZ *300.  ## convert to mm\n",
    "\n",
    "mod_effs = np.zeros(np.shape(wavelengths))\n",
    "phases = np.zeros(np.shape(wavelengths))\n",
    "\n",
    "## make the transfer funciton\n",
    "i = 0\n",
    "while (i < np.size(wavelengths)):\n",
    "    wavelength = wavelengths[i]\n",
    "    TF = make_HWP_transfer_matrix(thicks,thetas,no,ne,wavelengths[i])\n",
    "    angs,Exo,Eyo = sim_rot_HWP(TF,n_angles)\n",
    "    mod_eff,phase = mod_eff_and_phase(Exo)\n",
    "    mod_effs[i] = mod_eff\n",
    "    phases[i] = phase\n",
    "    i +=1\n",
    "\n",
    "\n",
    "\n",
    "plt.plot(freq_GHZ,mod_effs) \n",
    "#plt.plot(freq_GHZ,mod_effs_single)\n",
    "plt.ylim(0.9,1.0)\n",
    "plt.xlim(65,180)\n",
    "plt.plot(np.array([1,1])*75,np.array([0,1]),\"r\")\n",
    "plt.plot(np.array([1,1])*112,np.array([0,1]),\"r\")\n",
    "plt.plot(np.array([1,1])*125,np.array([0,1]),\"g\")\n",
    "plt.plot(np.array([1,1])*170,np.array([0,1]),\"g\")\n",
    "#plt.plot(np.array([1,1])*195,np.array([0,1]),\"b\")\n",
    "#plt.plot(np.array([1,1])*250,np.array([0,1]),\"b\")\n",
    "plt.show()\n",
    "\n",
    "print(np.mean(mod_effs[np.where(np.logical_and(freq_GHZ>75,freq_GHZ<112))]))\n",
    "print(np.mean(mod_effs[np.where(np.logical_and(freq_GHZ>122,freq_GHZ<170))]))\n",
    "\n",
    "plt.plot(freq_GHZ,mod_effs) \n",
    "#plt.plot(freq_GHZ,mod_effs_single)\n",
    "plt.ylim(0.0,1.0)\n",
    "plt.xlim(65,180)\n",
    "plt.plot(np.array([1,1])*75,np.array([0,1]),\"r\")\n",
    "plt.plot(np.array([1,1])*112,np.array([0,1]),\"r\")\n",
    "plt.plot(np.array([1,1])*125,np.array([0,1]),\"g\")\n",
    "plt.plot(np.array([1,1])*170,np.array([0,1]),\"g\")\n",
    "#plt.plot(np.array([1,1])*195,np.array([0,1]),\"b\")\n",
    "#plt.plot(np.array([1,1])*250,np.array([0,1]),\"b\")\n",
    "plt.show()\n",
    "\n",
    "\n",
    "\n",
    "plt.plot(freq_GHZ,phases) \n",
    "delta = 45\n",
    "plt.ylim(0,30)\n",
    "plt.xlim(65,180)\n",
    "plt.plot(np.array([1,1])*75,np.array([-1,1])*200,\"r\")\n",
    "plt.plot(np.array([1,1])*112,np.array([-1,1])*200,\"r\")\n",
    "plt.plot(np.array([1,1])*125,np.array([-1,1])*200,\"g\")\n",
    "plt.plot(np.array([1,1])*170,np.array([-1,1])*200,\"g\")\n",
    "plt.show()\n",
    "\n",
    "plt.plot(freq_GHZ,phases - np.mean(phases[50:150])) \n",
    "plt.xlim(65,180)\n",
    "plt.ylim(np.array([-1,1])*0.1 )\n",
    "plt.plot(np.array([1,1])*75,np.array([-1,1])*200,\"r\")\n",
    "plt.plot(np.array([1,1])*112,np.array([-1,1])*200,\"r\")\n",
    "plt.plot(np.array([1,1])*125,np.array([-1,1])*200,\"g\")\n",
    "plt.plot(np.array([1,1])*170,np.array([-1,1])*200,\"g\")\n",
    "plt.show()\n",
    "\n",
    "\n",
    "\n",
    "#plt.plot(freq_GHZ,phases-np.mean(phases))\n",
    "\n",
    "#phase_angle_s  = np.unwrap(mod_phsses_single*4.*np.pi/180)/4. * 180/np.pi\n",
    "\n",
    "#plt.plot(freq_GHZ,phase_angle_s)\n",
    "#plt.show() \n",
    "\n",
    "#plt.plot(freq_GHZ,phases)"
   ]
  },
  {
   "cell_type": "markdown",
   "metadata": {},
   "source": [
    "# this is the five layer I favor"
   ]
  },
  {
   "cell_type": "code",
   "execution_count": 14,
   "metadata": {},
   "outputs": [
    {
     "name": "stdout",
     "output_type": "stream",
     "text": [
      "[3.95 3.95 3.95 3.95 3.95]\n",
      "[ 22.9 -50.    0.   50.  -22.9]\n",
      "3.9999999999999964\n"
     ]
    },
    {
     "name": "stderr",
     "output_type": "stream",
     "text": [
      "/Users/jeffmcm/anaconda3/lib/python3.6/site-packages/ipykernel_launcher.py:68: RuntimeWarning: divide by zero encountered in true_divide\n"
     ]
    },
    {
     "data": {
      "image/png": "[encoded data removed]",
      "text/plain": [
       "<matplotlib.figure.Figure at 0x104fa4780>"
      ]
     },
     "metadata": {},
     "output_type": "display_data"
    },
    {
     "name": "stdout",
     "output_type": "stream",
     "text": [
      "0.9986561318486675\n",
      "0.9992541580067937\n"
     ]
    },
    {
     "data": {
      "image/png": "[encoded data removed]",
      "text/plain": [
       "<matplotlib.figure.Figure at 0x105fcce48>"
      ]
     },
     "metadata": {},
     "output_type": "display_data"
    },
    {
     "data": {
      "image/png": "[encoded data removed]",
      "text/plain": [
       "<matplotlib.figure.Figure at 0x105fad898>"
      ]
     },
     "metadata": {},
     "output_type": "display_data"
    },
    {
     "data": {
      "image/png": "[encoded data removed]",
      "text/plain": [
       "<matplotlib.figure.Figure at 0x105c88a90>"
      ]
     },
     "metadata": {},
     "output_type": "display_data"
    }
   ],
   "source": [
    "## setup a HWP for 2 mm\n",
    "wavelength = 2.4\n",
    "no = 3.05\n",
    "ne = 3.35\n",
    "HWP_thick = 1/(ne-no)*wavelength/2.\n",
    "\n",
    "## one stack, standard\n",
    "thicks = np.array([HWP_thick])\n",
    "thetas = np.array([22])*np.pi/180.\n",
    "\n",
    "\n",
    "## three stack, standard\n",
    "#thicks = np.array([HWP_thick,HWP_thick,HWP_thick])\n",
    "#thetas = np.array([0,58*np.pi/180.,0])\n",
    "\n",
    "\n",
    "## five stack, standard\n",
    "thicks = np.array([HWP_thick,HWP_thick,HWP_thick,HWP_thick,HWP_thick])\n",
    "thetas = np.array([0,28.6,94.1,28.6,1.6])*np.pi/180.\n",
    "\n",
    "\n",
    "## five stack, standard\n",
    "thicks = np.array([HWP_thick,HWP_thick,HWP_thick,HWP_thick,HWP_thick])\n",
    "thetas = np.array([0,28.6,94.1,28.6,1.6])*np.pi/180.\n",
    "\n",
    "\n",
    "\n",
    "\n",
    "\n",
    "## nine stack, standard\n",
    "#thicks = np.array([HWP_thick,HWP_thick,HWP_thick,HWP_thick,HWP_thick,HWP_thick,HWP_thick])\n",
    "#thetas = np.array([0.,18.5,37.5,73.9,141.5,73.9,37.5,18.5,22.7])*np.pi/180.\n",
    "\n",
    "\n",
    "\n",
    "\n",
    "## fiducial SO design\n",
    "no = 3.05\n",
    "ne = 3.35\n",
    "thick_HWP = 3.95\n",
    "epsi = 0\n",
    "angle = 28.5\n",
    "delta = 0\n",
    "eta = 0.\n",
    "thicks = np.array([ 1,  1 ,  1,  1,1])* thick_HWP\n",
    "thetas = np.array([22.9, -50,0,  50,  -22.9])*np.pi/180.\n",
    "\n",
    "\n",
    "\n",
    "print(thicks)\n",
    "print(thetas*180./np.pi)\n",
    "\n",
    "## three stack, standard\n",
    "thicks = np.array([thick_HWP,thick_HWP,thick_HWP])\n",
    "thetas = np.array([0,58*np.pi/180.,0])\n",
    "print(HWP_thick)\n",
    "\n",
    "## five stack, non standard\n",
    "HWP_thick = 3.95\n",
    "thicks = np.array([HWP_thick,HWP_thick,HWP_thick,HWP_thick,HWP_thick])\n",
    "thetas = np.array([22.9,-50,0,50,-22.9])*np.pi/180.\n",
    "\n",
    "\n",
    "\n",
    "\n",
    "## setup the sim\n",
    "freq_GHZ = np.arange(600)  ## from 70 to 170 GHz \n",
    "wavelengths = 1./freq_GHZ *300.  ## convert to mm\n",
    "\n",
    "mod_effs = np.zeros(np.shape(wavelengths))\n",
    "phases = np.zeros(np.shape(wavelengths))\n",
    "\n",
    "## make the transfer funciton\n",
    "i = 0\n",
    "while (i < np.size(wavelengths)):\n",
    "    wavelength = wavelengths[i]\n",
    "    TF = make_HWP_transfer_matrix(thicks,thetas,no,ne,wavelengths[i])\n",
    "    angs,Exo,Eyo = sim_rot_HWP(TF,n_angles)\n",
    "    mod_eff,phase = mod_eff_and_phase(Exo)\n",
    "    mod_effs[i] = mod_eff\n",
    "    phases[i] = phase\n",
    "    i +=1\n",
    "\n",
    "\n",
    "\n",
    "plt.plot(freq_GHZ,mod_effs) \n",
    "#plt.plot(freq_GHZ,mod_effs_single)\n",
    "plt.ylim(0.9,1.0)\n",
    "plt.xlim(65,180)\n",
    "plt.plot(np.array([1,1])*75,np.array([0,1]),\"r\")\n",
    "plt.plot(np.array([1,1])*112,np.array([0,1]),\"r\")\n",
    "plt.plot(np.array([1,1])*125,np.array([0,1]),\"g\")\n",
    "plt.plot(np.array([1,1])*170,np.array([0,1]),\"g\")\n",
    "#plt.plot(np.array([1,1])*195,np.array([0,1]),\"b\")\n",
    "#plt.plot(np.array([1,1])*250,np.array([0,1]),\"b\")\n",
    "plt.show()\n",
    "\n",
    "print(np.mean(mod_effs[np.where(np.logical_and(freq_GHZ>75,freq_GHZ<112))]))\n",
    "print(np.mean(mod_effs[np.where(np.logical_and(freq_GHZ>122,freq_GHZ<170))]))\n",
    "\n",
    "plt.plot(freq_GHZ,mod_effs) \n",
    "#plt.plot(freq_GHZ,mod_effs_single)\n",
    "plt.ylim(0.0,1.0)\n",
    "plt.xlim(65,180)\n",
    "plt.plot(np.array([1,1])*75,np.array([0,1]),\"r\")\n",
    "plt.plot(np.array([1,1])*112,np.array([0,1]),\"r\")\n",
    "plt.plot(np.array([1,1])*125,np.array([0,1]),\"g\")\n",
    "plt.plot(np.array([1,1])*170,np.array([0,1]),\"g\")\n",
    "#plt.plot(np.array([1,1])*195,np.array([0,1]),\"b\")\n",
    "#plt.plot(np.array([1,1])*250,np.array([0,1]),\"b\")\n",
    "plt.show()\n",
    "\n",
    "\n",
    "\n",
    "plt.plot(freq_GHZ,phases) \n",
    "delta = 45\n",
    "plt.ylim(0,30)\n",
    "plt.xlim(65,180)\n",
    "plt.plot(np.array([1,1])*75,np.array([-1,1])*200,\"r\")\n",
    "plt.plot(np.array([1,1])*112,np.array([-1,1])*200,\"r\")\n",
    "plt.plot(np.array([1,1])*125,np.array([-1,1])*200,\"g\")\n",
    "plt.plot(np.array([1,1])*170,np.array([-1,1])*200,\"g\")\n",
    "plt.show()\n",
    "\n",
    "plt.plot(freq_GHZ,phases - np.mean(phases[50:150])) \n",
    "plt.xlim(65,180)\n",
    "plt.ylim(np.array([-1,1])*0.1 )\n",
    "plt.plot(np.array([1,1])*75,np.array([-1,1])*200,\"r\")\n",
    "plt.plot(np.array([1,1])*112,np.array([-1,1])*200,\"r\")\n",
    "plt.plot(np.array([1,1])*125,np.array([-1,1])*200,\"g\")\n",
    "plt.plot(np.array([1,1])*170,np.array([-1,1])*200,\"g\")\n",
    "plt.show()\n",
    "\n",
    "\n",
    "\n",
    "#plt.plot(freq_GHZ,phases-np.mean(phases))\n",
    "\n",
    "#phase_angle_s  = np.unwrap(mod_phsses_single*4.*np.pi/180)/4. * 180/np.pi\n",
    "\n",
    "#plt.plot(freq_GHZ,phase_angle_s)\n",
    "#plt.show() \n",
    "\n",
    "#plt.plot(freq_GHZ,phases)"
   ]
  },
  {
   "cell_type": "code",
   "execution_count": null,
   "metadata": {},
   "outputs": [],
   "source": []
  }
 ],
 "metadata": {
  "kernelspec": {
   "display_name": "Python 3",
   "language": "python",
   "name": "python3"
  },
  "language_info": {
   "codemirror_mode": {
    "name": "ipython",
    "version": 3
   },
   "file_extension": ".py",
   "mimetype": "text/x-python",
   "name": "python",
   "nbconvert_exporter": "python",
   "pygments_lexer": "ipython3",
   "version": "3.6.4"
  }
 },
 "nbformat": 4,
 "nbformat_minor": 2
}
