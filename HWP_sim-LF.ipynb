{
 "cells": [
  {
   "cell_type": "code",
   "execution_count": null,
   "metadata": {},
   "outputs": [],
   "source": [
    "import numpy as np\n",
    "import scipy.optimize as opt\n",
    "import matplotlib.pyplot as plt"
   ]
  },
  {
   "cell_type": "code",
   "execution_count": null,
   "metadata": {},
   "outputs": [],
   "source": [
    "def make_HWP_transfer_matrix(thicks,thetas,no,ne,wavelength):\n",
    "    ## this code caculats the transfer matrix assumng x-y input and output\n",
    "    ################\n",
    "    ## thick --- the thickness of each layer, use mm\n",
    "    ## theta --- the angle of the ordinary axis relative to the x axis\n",
    "    ## no    --- the index along the ordinary axis\n",
    "    ## ne    --- the index along the extrodinary axis\n",
    "    ## wavelength  --- the wavelenght, use mm\n",
    "    ################\n",
    "    # set up the input layer, assumed to be vacuume\n",
    "    TF = np.matrix([[1,0],\n",
    "                    [0,1]])\n",
    "    theta_prev = 0.\n",
    "    # now iterate through the layers of HWP\n",
    "    N_layers = np.size(thicks)\n",
    "    i = 0\n",
    "    while (i < N_layers):\n",
    "        d_th = thetas[i] - theta_prev\n",
    "        Mrot = np.matrix([[np.cos(d_th),np.sin(d_th)],\n",
    "                         [-np.sin(d_th),np.cos(d_th)]])\n",
    "        k = 2 * np.pi / wavelength\n",
    "        phi_o = k * no * thicks[i]\n",
    "        phi_e = k * ne * thicks[i]\n",
    "        Mphase = np.matrix([[np.exp(np.complex(0,1)*phi_o),0],\n",
    "                         [0, np.exp(np.complex(0,1)*phi_e)]])\n",
    "        TF_layer = np.matmul(Mphase,Mrot)\n",
    "        TF = np.matmul(TF_layer,TF)\n",
    "        ## now iterate\n",
    "        theta_prev = thetas[i]\n",
    "        i+=1\n",
    "    # now do the last layer\n",
    "    d_th = 0 - theta_prev\n",
    "    Mrot = np.matrix([[np.cos(d_th),np.sin(d_th)],\n",
    "                      [-np.sin(d_th),np.cos(d_th)]])\n",
    "    TF = np.matmul(Mrot,TF)\n",
    "    return(TF)\n",
    "\n",
    "##########\n",
    "wavelength = 2.\n",
    "no = 3\n",
    "ne = 3.1\n",
    "thicks = np.array([1/(ne-no)*wavelength/2.])\n",
    "thetas = np.array([np.pi/4.])\n",
    "\n",
    "\n",
    "print(thicks)\n",
    "print(thetas)\n",
    "\n",
    "tmp = make_HWP_transfer_matrix(thicks,thetas,no,ne,wavelength)\n",
    "\n",
    "print(\"the transfer matrix\")\n",
    "print(tmp)\n",
    "print(\"checking unitatity\")\n",
    "print(np.matmul(np.conj(tmp),tmp))\n",
    "\n",
    "print(tmp[0,0])\n",
    "print(tmp[1,0])   "
   ]
  },
  {
   "cell_type": "code",
   "execution_count": null,
   "metadata": {},
   "outputs": [],
   "source": [
    "def rotate_HWP(TF,psi):\n",
    "    Mrot = np.matrix([[np.cos(psi),np.sin(psi)],\n",
    "                      [-np.sin(psi),np.cos(psi)]])\n",
    "    out = np.matmul(TF,Mrot)\n",
    "    out = np.matmul(np.transpose(Mrot),out)\n",
    "    return(out)\n"
   ]
  },
  {
   "cell_type": "code",
   "execution_count": null,
   "metadata": {},
   "outputs": [],
   "source": [
    "def sim_rot_HWP(TF,nsamps):\n",
    "    angs = np.arange(nsamps)/nsamps * 2 * np.pi\n",
    "    Ex_out = np.zeros(nsamps) * np.complex(0,1)\n",
    "    Ey_out = np.zeros(nsamps) * np.complex(0,1)\n",
    "    i = 0\n",
    "    while(i<nsamps):\n",
    "        TF_tmp = rotate_HWP(TF,angs[i])\n",
    "        Ex_out[i] = TF_tmp[0,0]\n",
    "        Ey_out[i] = TF_tmp[1,0]\n",
    "        i+=1\n",
    "    return(angs,Ex_out,Ey_out)"
   ]
  },
  {
   "cell_type": "code",
   "execution_count": null,
   "metadata": {},
   "outputs": [],
   "source": [
    "## setup a HWP for 2 mm\n",
    "wavelength = 2.\n",
    "no = 3.05\n",
    "ne = 3.35\n",
    "thicks = np.array([1/(ne-no)*wavelength/2.])\n",
    "thetas = np.array([np.pi/4.])\n",
    "\n",
    "\n",
    "\n",
    "## make the transfer funciton\n",
    "wavelength = 2.\n",
    "TF = make_HWP_transfer_matrix(thicks,thetas,no,ne,wavelength)\n",
    "\n",
    "# simulate its output vs angle for x poliazed input\n",
    "n_angles = 128\n",
    "angs,Exo,Eyo = sim_rot_HWP(TF,n_angles)\n",
    "\n",
    "## plot the results\n",
    "plt.plot(angs,(np.abs(Exo))**2,\"b.\")\n",
    "plt.plot(angs,(np.abs(Eyo))**2,\"r.\")\n",
    "plt.show()\n",
    "\n",
    "print(thicks)"
   ]
  },
  {
   "cell_type": "code",
   "execution_count": null,
   "metadata": {},
   "outputs": [],
   "source": [
    "## make the transfer funciton\n",
    "wavelength = 3.0\n",
    "TF = make_HWP_transfer_matrix(thicks,thetas,no,ne,wavelength)\n",
    "\n",
    "# simulate its output vs angle for x poliazed input\n",
    "n_angles = 128\n",
    "angs,Exo,Eyo = sim_rot_HWP(TF,n_angles)\n",
    "\n",
    "## plot the results\n",
    "plt.plot(angs*180/np.pi,(np.abs(Exo))**2,\"b.\")\n",
    "plt.plot(angs*180/np.pi,(np.abs(Eyo))**2,\"r.\")\n",
    "plt.show()\n",
    "\n",
    "\n",
    "\n",
    "## fit fourier modes to the output\n",
    "\n",
    "tmp = ( np.fft.ifft((np.abs(Eyo))**2))\n",
    "\n",
    "print(tmp[0:8])\n",
    "print(tmp[-8:])\n",
    "\n",
    "print(2*np.abs(tmp[4])/np.abs(tmp[0]))\n",
    "\n",
    "\n"
   ]
  },
  {
   "cell_type": "code",
   "execution_count": null,
   "metadata": {},
   "outputs": [],
   "source": [
    "def mod_eff_and_phase(E):\n",
    "    tmp = np.fft.ifft((np.abs(E))**2)\n",
    "    mod_eff = 2. * np.abs(tmp[4]) /.5 #/ np.abs(tmp[0])\n",
    "    ##\n",
    "    tmp = np.arctan2(np.imag(tmp[4]),np.real(tmp[4]))\n",
    "    phase =  45 + 180/np.pi * tmp/4.\n",
    "    return(mod_eff,phase)\n",
    "\n",
    "print(mod_eff_and_phase(Exo))"
   ]
  },
  {
   "cell_type": "code",
   "execution_count": null,
   "metadata": {},
   "outputs": [],
   "source": [
    "## wavelenght range\n",
    "wavelengths = ((np.arange(0,500)+1)/500.)*10. + 1\n",
    "freq_GHZ = 1./wavelengths * 300./1.  ## \n",
    "mod_effs = np.zeros(np.shape(wavelengths))\n",
    "phases =   np.zeros(np.shape(wavelengths))\n",
    "\n",
    "## numer of angles to use in the simulations of the HWP\n",
    "n_angles = 32\n",
    "\n",
    "## setup a HWP for 2 mm\n",
    "wavelength = 2.\n",
    "no = 3.05\n",
    "ne = 3.35\n",
    "thicks = np.array([1/(ne-no)*wavelength/2.])\n",
    "thetas = np.array([np.pi/4.])\n",
    "\n",
    "\n",
    "\n",
    "## make the transfer funciton\n",
    "i = 0\n",
    "while (i < np.size(wavelengths)):\n",
    "    wavelength = wavelengths[i]\n",
    "    TF = make_HWP_transfer_matrix(thicks,thetas,no,ne,wavelengths[i])\n",
    "    angs,Exo,Eyo = sim_rot_HWP(TF,n_angles)\n",
    "    mod_eff,phase = mod_eff_and_phase(Exo)\n",
    "    mod_effs[i] = mod_eff\n",
    "    phases[i] = phase\n",
    "    i +=1\n",
    "\n",
    "\n",
    "mod_effs_single = np.copy(mod_effs)\n",
    "mod_phsses_single = np.copy(phases)\n",
    "\n",
    "plt.plot(freq_GHZ,mod_effs_single) \n",
    "plt.show()\n",
    "\n",
    "\n",
    "    \n",
    "    "
   ]
  },
  {
   "cell_type": "code",
   "execution_count": null,
   "metadata": {},
   "outputs": [],
   "source": [
    "wavelength = 2.2\n",
    "n_angles = 128\n",
    "\n",
    "TF = make_HWP_transfer_matrix(thicks,thetas,no,ne,wavelength)\n",
    "angs,Exo,Eyo = sim_rot_HWP(TF,n_angles)\n",
    "mod_eff,phase = mod_eff_and_phase(Exo)\n",
    "\n",
    "\n",
    "## plot the results\n",
    "plt.plot(angs*180./np.pi,(np.abs(Exo))**2,\"b.\")\n",
    "plt.plot(angs*180./np.pi,(np.abs(Eyo))**2,\"r.\")\n",
    "plt.xlim(0,45)\n",
    "plt.show()\n",
    "\n",
    "\n",
    "\n",
    "## fit fourier modes to the output\n",
    "\n",
    "tmp = ( np.fft.ifft((np.abs(Eyo))**2)[0:8])\n",
    "\n",
    "print(tmp)"
   ]
  },
  {
   "cell_type": "code",
   "execution_count": null,
   "metadata": {},
   "outputs": [],
   "source": [
    "## compute the fraction of the simualted band that is usable, defined as above a threshold\n",
    "#def fractional_BW_usable(mod_eff,thresshold):\n",
    "#    ok = np.where(mod_eff > thresshold )\n",
    "#    return(np.size(ok)/np.size(mod_eff))\n",
    "\n",
    "def fractional_BW_usable(mod_eff):\n",
    "    tmp = np.sum(mod_eff)\n",
    "    tmp = tmp / np.size(mod_eff)\n",
    "    return(tmp)\n",
    "\n",
    "print(fractional_BW_usable(mod_effs_single))\n",
    "print(fractional_BW_usable(mod_effs))\n"
   ]
  },
  {
   "cell_type": "code",
   "execution_count": null,
   "metadata": {},
   "outputs": [],
   "source": [
    "## calcuatle the dispersion in the phase angle\n",
    "def phase_angle_dispersion(phase_angle,frequency):\n",
    "    phase_angle  = np.unwrap(phase_angle*4.*np.pi/180)/4. * 180/np.pi\n",
    "    #low_band = np.where(frequency  < 112.)\n",
    "    #high_band =np.where(frequency > 122.)\n",
    "    #out = np.std(phase_angle[low_band])\n",
    "    #out += np.std(phase_angle[high_band])\n",
    "    out = np.std(phase_angle)\n",
    "    return(out)\n",
    "\n",
    "#print(phase_angle_dispersion(mod_phsses_single))\n",
    "#print(phase_angle_dispersion(phases))\n"
   ]
  },
  {
   "cell_type": "code",
   "execution_count": null,
   "metadata": {},
   "outputs": [],
   "source": [
    "def optomization_function(mod_effs,phase_angles,frequency):\n",
    "    ## the bandwidth part, this is multiplitative, with small values being bad\n",
    "    fBW = fractional_BW_usable(mod_effs)\n",
    "    alpha = 0.05 ## smaller aphpah penalizes more for loss of BW\n",
    "                ## 0.1 means 10% bw loss results in a 70% penalty\n",
    "    BW_penalty = ( ((1-fBW)/alpha))\n",
    "    ## the phase constancy part, small is good\n",
    "    rms_phi = np.sqrt(phase_angle_dispersion(phase_angles,frequency)**2)\n",
    "    ## optomization funciton should get small as things improe\n",
    "    opt = rms_phi + BW_penalty ## consider addign a thickness penalty\n",
    "    return(opt)\n",
    "\n",
    "#print(optomization_function(mod_effs,phases))\n",
    "#print(optomization_function(mod_effs_single,mod_phsses_single))"
   ]
  },
  {
   "cell_type": "code",
   "execution_count": null,
   "metadata": {},
   "outputs": [],
   "source": [
    "def evaluate_HWP(params):\n",
    "    ##unpack the params\n",
    "    thicks = np.abs(params[:int(np.size(params)/2)])\n",
    "    thetas = params[int(np.size(params)/2):]*np.pi/180.\n",
    "    ne = 3.2 + 0.31/2.\n",
    "    no = 3.2 - 0.31/2.\n",
    "    ## set up the wavelenght range\n",
    "    freq_GHZ = np.arange(25*2)/2 + 24.  ## 20 to 50 GHz\n",
    "    wavelengths = 1./freq_GHZ *300.  ## convert to mm\n",
    "    ## set up the outputs for the calcaulation\n",
    "    mod_effs = np.zeros(np.shape(wavelengths))\n",
    "    phases =   np.zeros(np.shape(wavelengths))\n",
    "\n",
    "    ## numer of angles to use in the simulations of the HWP\n",
    "    n_angles = 32\n",
    "    \n",
    "    ## make the transfer funciton\n",
    "    i = 0\n",
    "    while (i < np.size(wavelengths)):\n",
    "        wavelength = wavelengths[i]\n",
    "        TF = make_HWP_transfer_matrix(thicks,thetas,no,ne,wavelengths[i])\n",
    "        angs,Exo,Eyo = sim_rot_HWP(TF,n_angles)\n",
    "        mod_eff,phase = mod_eff_and_phase(Exo)\n",
    "        mod_effs[i] = mod_eff\n",
    "        phases[i] = phase\n",
    "        i +=1 \n",
    "    \n",
    "    phases  = np.unwrap(phases*4.*np.pi/180)/4. * 180/np.pi\n",
    "    ## plots for debugging\n",
    "    if (np.random.random_sample() < .002):  ## very important for speeding it up\n",
    "        print(\"thicks: \", thicks)\n",
    "        print(\"agnles: \", thetas*180./np.pi)\n",
    "        plt.plot(freq_GHZ,mod_effs,\"b.\")\n",
    "        plt.ylim(0,1)\n",
    "        plt.show()\n",
    "        plt.plot(freq_GHZ,phases-np.mean(phases),\"r.\")\n",
    "        plt.show()\n",
    "\n",
    "    return(optomization_function(mod_effs,phases,freq_GHZ))\n",
    "\n",
    "\n",
    "freq_GHZ = np.arange(30*2)/2 + 20.  ## 20 to 50 GHz\n",
    "\n",
    "thicks = np.ones(5)* 1/(.3)*2./2.*1.4\n",
    "angles = np.array([0,25,85,25,0])*np.pi/180.\n",
    "params = np.concatenate((thicks,angles))\n",
    "print(evaluate_HWP(params))"
   ]
  },
  {
   "cell_type": "code",
   "execution_count": null,
   "metadata": {
    "scrolled": true
   },
   "outputs": [],
   "source": [
    "params = np.array([ 7,  14 ,  14,  7 ,\n",
    "                  -28.5 , 28.5, -28.5 , 28.5])\n",
    "\n",
    "\n",
    "\n",
    "\n",
    "tmp = opt.basinhopping(evaluate_HWP, params, niter=100, T=5.0, stepsize=1.0)\n",
    "             \n",
    "             \n",
    "print(tmp)"
   ]
  },
  {
   "cell_type": "markdown",
   "metadata": {},
   "source": [
    "# this is a design optomized for 24-48 GHz, the AdvACT LF band, wider bandwidth is possible with 4 layers, but I have't optomzied as such."
   ]
  },
  {
   "cell_type": "code",
   "execution_count": 18,
   "metadata": {},
   "outputs": [
    {
     "name": "stdout",
     "output_type": "stream",
     "text": [
      "[ 6.7 13.4 13.4  6.7]\n",
      "[ 29. -29.  29. -29.]\n"
     ]
    },
    {
     "name": "stderr",
     "output_type": "stream",
     "text": [
      "/Users/jeffmcm/anaconda3/lib/python3.6/site-packages/ipykernel_launcher.py:19: RuntimeWarning: divide by zero encountered in true_divide\n"
     ]
    },
    {
     "data": {
      "image/png": "[encoded data removed]",
      "text/plain": [
       "<matplotlib.figure.Figure at 0x10e318c18>"
      ]
     },
     "metadata": {},
     "output_type": "display_data"
    },
    {
     "name": "stdout",
     "output_type": "stream",
     "text": [
      "0.6070361613610119\n",
      "0.6070361613610119\n"
     ]
    },
    {
     "data": {
      "image/png": "[encoded data removed]",
      "text/plain": [
       "<matplotlib.figure.Figure at 0x10e743cc0>"
      ]
     },
     "metadata": {},
     "output_type": "display_data"
    },
    {
     "data": {
      "image/png": "[encoded data removed]",
      "text/plain": [
       "<matplotlib.figure.Figure at 0x1515e1bb70>"
      ]
     },
     "metadata": {},
     "output_type": "display_data"
    }
   ],
   "source": [
    "## fiducial SO design\n",
    "no = 3.05\n",
    "ne = 3.35\n",
    "thick_HWP = 13.4\n",
    "thicks = np.array([ 0.5,1,1,0.5])* thick_HWP \n",
    "\n",
    "\n",
    "\n",
    "psi_A = 29\n",
    "psi_B = 29\n",
    "thetas = np.array([psi_A, -psi_B,  psi_B,  -psi_A])*np.pi/180. \n",
    "\n",
    "print(thicks)\n",
    "print(thetas*180./np.pi)\n",
    "\n",
    "\n",
    "## setup the sim\n",
    "freq_GHZ = np.arange(600)  ## from 70 to 170 GHz \n",
    "wavelengths = 1./freq_GHZ *300.  ## convert to mm\n",
    "\n",
    "mod_effs = np.zeros(np.shape(wavelengths))\n",
    "phases = np.zeros(np.shape(wavelengths))\n",
    "\n",
    "## make the transfer funciton\n",
    "i = 0\n",
    "while (i < np.size(wavelengths)):\n",
    "    wavelength = wavelengths[i]\n",
    "    TF = make_HWP_transfer_matrix(thicks,thetas,no,ne,wavelengths[i])\n",
    "    angs,Exo,Eyo = sim_rot_HWP(TF,n_angles)\n",
    "    mod_eff,phase = mod_eff_and_phase(Exo)\n",
    "    mod_effs[i] = mod_eff\n",
    "    phases[i] = phase\n",
    "    i +=1\n",
    "\n",
    "\n",
    "\n",
    "plt.plot(freq_GHZ,mod_effs) \n",
    "#plt.plot(freq_GHZ,mod_effs_single)\n",
    "plt.ylim(0.9,1.0)\n",
    "plt.xlim(20,55)\n",
    "plt.plot(np.array([1,1])*195,np.array([0,1]),\"r\")\n",
    "plt.plot(np.array([1,1])*248,np.array([0,1]),\"r\")\n",
    "plt.plot(np.array([1,1])*250,np.array([0,1]),\"g\")\n",
    "plt.plot(np.array([1,1])*305,np.array([0,1]),\"g\")\n",
    "#plt.plot(np.array([1,1])*195,np.array([0,1]),\"b\")\n",
    "#plt.plot(np.array([1,1])*250,np.array([0,1]),\"b\")\n",
    "plt.show()\n",
    "\n",
    "print(np.mean(mod_effs[np.where(np.logical_and(freq_GHZ>190,freq_GHZ<310))]))\n",
    "print(np.mean(mod_effs[np.where(np.logical_and(freq_GHZ>190,freq_GHZ<310))]))\n",
    "\n",
    "plt.plot(freq_GHZ,mod_effs) \n",
    "#plt.plot(freq_GHZ,mod_effs_single)\n",
    "plt.ylim(0.0,1.0)\n",
    "plt.xlim(20,55)\n",
    "plt.plot(np.array([1,1])*195,np.array([0,1]),\"r\")\n",
    "plt.plot(np.array([1,1])*248,np.array([0,1]),\"r\")\n",
    "plt.plot(np.array([1,1])*250,np.array([0,1]),\"g\")\n",
    "plt.plot(np.array([1,1])*305,np.array([0,1]),\"g\")\n",
    "#plt.plot(np.array([1,1])*195,np.array([0,1]),\"b\")\n",
    "#plt.plot(np.array([1,1])*250,np.array([0,1]),\"b\")\n",
    "plt.show()\n",
    "\n",
    "\n",
    "\n",
    "\n",
    "plt.plot(freq_GHZ,phases - np.mean(phases[50:150])) \n",
    "plt.xlim(20,55)\n",
    "plt.ylim(np.array([-1,1])*0.1 )\n",
    "plt.plot(np.array([1,1])*195,np.array([-1,1]),\"r\")\n",
    "plt.plot(np.array([1,1])*248,np.array([-1,1]),\"r\")\n",
    "plt.plot(np.array([1,1])*250,np.array([-1,1]),\"g\")\n",
    "plt.plot(np.array([1,1])*305,np.array([-1,1]),\"g\")\n",
    "plt.show()\n",
    "\n",
    "\n",
    "\n",
    "#plt.plot(freq_GHZ,phases-np.mean(phases))\n",
    "\n",
    "#phase_angle_s  = np.unwrap(mod_phsses_single*4.*np.pi/180)/4. * 180/np.pi\n",
    "\n",
    "#plt.plot(freq_GHZ,phase_angle_s)\n",
    "#plt.show() \n",
    "\n",
    "#plt.plot(freq_GHZ,phases)"
   ]
  },
  {
   "cell_type": "code",
   "execution_count": 19,
   "metadata": {},
   "outputs": [
    {
     "data": {
      "image/png": "[encoded data removed]",
      "text/plain": [
       "<matplotlib.figure.Figure at 0x10e5ca780>"
      ]
     },
     "metadata": {},
     "output_type": "display_data"
    },
    {
     "name": "stdout",
     "output_type": "stream",
     "text": [
      "0.6070361613610119\n",
      "0.6070361613610119\n"
     ]
    },
    {
     "data": {
      "image/png": "[encoded data removed]",
      "text/plain": [
       "<matplotlib.figure.Figure at 0x10c1244e0>"
      ]
     },
     "metadata": {},
     "output_type": "display_data"
    },
    {
     "data": {
      "image/png": "[encoded data removed]",
      "text/plain": [
       "<matplotlib.figure.Figure at 0x10e4617f0>"
      ]
     },
     "metadata": {},
     "output_type": "display_data"
    }
   ],
   "source": [
    "\n",
    "\n",
    "plt.plot(freq_GHZ,mod_effs) \n",
    "#plt.plot(freq_GHZ,mod_effs_single)\n",
    "plt.ylim(0.9,1.0)\n",
    "plt.xlim(0,100)\n",
    "plt.plot(np.array([1,1])*195,np.array([0,1]),\"r\")\n",
    "plt.plot(np.array([1,1])*248,np.array([0,1]),\"r\")\n",
    "plt.plot(np.array([1,1])*250,np.array([0,1]),\"g\")\n",
    "plt.plot(np.array([1,1])*305,np.array([0,1]),\"g\")\n",
    "#plt.plot(np.array([1,1])*195,np.array([0,1]),\"b\")\n",
    "#plt.plot(np.array([1,1])*250,np.array([0,1]),\"b\")\n",
    "plt.show()\n",
    "\n",
    "print(np.mean(mod_effs[np.where(np.logical_and(freq_GHZ>190,freq_GHZ<310))]))\n",
    "print(np.mean(mod_effs[np.where(np.logical_and(freq_GHZ>190,freq_GHZ<310))]))\n",
    "\n",
    "plt.plot(freq_GHZ,mod_effs) \n",
    "#plt.plot(freq_GHZ,mod_effs_single)\n",
    "plt.ylim(0.0,1.0)\n",
    "plt.xlim(0,100)\n",
    "plt.plot(np.array([1,1])*195,np.array([0,1]),\"r\")\n",
    "plt.plot(np.array([1,1])*248,np.array([0,1]),\"r\")\n",
    "plt.plot(np.array([1,1])*250,np.array([0,1]),\"g\")\n",
    "plt.plot(np.array([1,1])*305,np.array([0,1]),\"g\")\n",
    "#plt.plot(np.array([1,1])*195,np.array([0,1]),\"b\")\n",
    "#plt.plot(np.array([1,1])*250,np.array([0,1]),\"b\")\n",
    "plt.show()\n",
    "\n",
    "\n",
    "\n",
    "\n",
    "plt.plot(freq_GHZ,phases - np.mean(phases[50:150])) \n",
    "plt.xlim(0,100)\n",
    "plt.ylim(np.array([-1,1])*0.1 )\n",
    "plt.plot(np.array([1,1])*195,np.array([-1,1]),\"r\")\n",
    "plt.plot(np.array([1,1])*248,np.array([-1,1]),\"r\")\n",
    "plt.plot(np.array([1,1])*250,np.array([-1,1]),\"g\")\n",
    "plt.plot(np.array([1,1])*305,np.array([-1,1]),\"g\")\n",
    "plt.show()\n",
    "\n",
    "\n",
    "\n"
   ]
  },
  {
   "cell_type": "code",
   "execution_count": null,
   "metadata": {},
   "outputs": [],
   "source": []
  }
 ],
 "metadata": {
  "kernelspec": {
   "display_name": "Python 3",
   "language": "python",
   "name": "python3"
  }
 },
 "nbformat": 4,
 "nbformat_minor": 2
}
